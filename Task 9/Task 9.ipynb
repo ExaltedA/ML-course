{
 "cells": [
  {
   "cell_type": "markdown",
   "metadata": {},
   "source": [
    "# Task 9"
   ]
  },
  {
   "cell_type": "code",
   "execution_count": 31,
   "metadata": {},
   "outputs": [],
   "source": [
    "def max_gap(N):\n",
    "    xs = bin(N)[2:].strip('0').split('1') \n",
    "    # first to binary, then remove 0b, \n",
    "    #then remove both the leading and the trailing zeros, split sequences of zero using 1 as a separator\n",
    "    return len(max(xs)) # return the longest sequence of 0"
   ]
  },
  {
   "cell_type": "code",
   "execution_count": 35,
   "metadata": {},
   "outputs": [
    {
     "name": "stdout",
     "output_type": "stream",
     "text": [
      "0 of binary 1\n"
     ]
    }
   ],
   "source": [
    "n = 1\n",
    "print(max_gap(n),'of binary',bin(n)[2:])"
   ]
  },
  {
   "cell_type": "markdown",
   "metadata": {},
   "source": [
    "# Task 9.1"
   ]
  },
  {
   "cell_type": "markdown",
   "metadata": {},
   "source": [
    "<h2>First task</h2>"
   ]
  },
  {
   "cell_type": "code",
   "execution_count": 41,
   "metadata": {},
   "outputs": [],
   "source": [
    "def solution_first(A):\n",
    "    cnt = 0\n",
    "    length = len(A)\n",
    "    \n",
    "    for i in range(length):    \n",
    "        for j in range(i+1, length):              \n",
    "            if j - A[j] <= i + A[i] and i - A[i] <= j + A[j]:\n",
    "                cnt+=1 \n",
    "                if cnt > 10000000:\n",
    "                    return -1\n",
    "                \n",
    "    return cnt\n"
   ]
  },
  {
   "cell_type": "code",
   "execution_count": 42,
   "metadata": {},
   "outputs": [
    {
     "data": {
      "text/plain": [
       "11"
      ]
     },
     "execution_count": 42,
     "metadata": {},
     "output_type": "execute_result"
    }
   ],
   "source": [
    "solution_first([1, 5, 2, 1, 4, 0])"
   ]
  },
  {
   "cell_type": "markdown",
   "metadata": {},
   "source": [
    "# Second task"
   ]
  },
  {
   "cell_type": "code",
   "execution_count": 1,
   "metadata": {},
   "outputs": [],
   "source": [
    "def solution_second(A):\n",
    "    res = [i for i in A if A.count(i) == 1]\n",
    "    return res[0]"
   ]
  },
  {
   "cell_type": "code",
   "execution_count": 2,
   "metadata": {},
   "outputs": [
    {
     "data": {
      "text/plain": [
       "7"
      ]
     },
     "execution_count": 2,
     "metadata": {},
     "output_type": "execute_result"
    }
   ],
   "source": [
    "solution_second([9, 3, 9, 3, 9, 7, 9])"
   ]
  },
  {
   "cell_type": "code",
   "execution_count": 3,
   "metadata": {},
   "outputs": [],
   "source": [
    "def solution_third(size, movement):\n",
    "    cnt = 0\n",
    "    down,up = 0, 1\n",
    "    while True:\n",
    "        if down == len(size)-1:\n",
    "            break\n",
    "        elif movement[down] == 0 or movement[up] == 1:\n",
    "            down += 1\n",
    "            up +=1\n",
    "        else:\n",
    "            if movement[down] > movement[up]:\n",
    "                del movement[up], movement[up]\n",
    "            else:\n",
    "                del size[down], movement[down]\n",
    "                if down != 0:\n",
    "                    up -= 1\n",
    "                    down -= 1\n",
    "            cnt+=1\n",
    "    return len(size) - cnt"
   ]
  }
 ],
 "metadata": {
  "kernelspec": {
   "display_name": "Python 3",
   "language": "python",
   "name": "python3"
  },
  "language_info": {
   "codemirror_mode": {
    "name": "ipython",
    "version": 3
   },
   "file_extension": ".py",
   "mimetype": "text/x-python",
   "name": "python",
   "nbconvert_exporter": "python",
   "pygments_lexer": "ipython3",
   "version": "3.7.4"
  }
 },
 "nbformat": 4,
 "nbformat_minor": 2
}
